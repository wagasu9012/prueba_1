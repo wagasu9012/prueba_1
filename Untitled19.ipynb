{
  "cells": [
    {
      "cell_type": "code",
      "execution_count": 1,
      "metadata": {
        "colab": {
          "base_uri": "https://localhost:8080/"
        },
        "id": "G2i1sqzWAsvk",
        "outputId": "aaf50fcd-daad-421b-9028-ab36c941a810"
      },
      "outputs": [
        {
          "name": "stdout",
          "output_type": "stream",
          "text": [
            "El área del círculo con radio 25.0 es: 1963.4954084936207\n"
          ]
        }
      ],
      "source": [
        "import math\n",
        "\n",
        "# Función para calcular el área de un círculo\n",
        "def calcular_area_circulo(radio):\n",
        "    area = math.pi * radio**2\n",
        "    return area\n",
        "\n",
        "# Pedir al usuario que ingrese el radio\n",
        "radio = float(input(\"Ingresa el radio del círculo: \"))\n",
        "\n",
        "# Calcular y mostrar el área\n",
        "area = calcular_area_circulo(radio)\n",
        "print(f\"El área del círculo con radio {radio} es: {area}\")\n",
        "\n",
        "##modificacion\n"
      ]
    },
    {
      "cell_type": "code",
      "execution_count": 2,
      "metadata": {
        "colab": {
          "base_uri": "https://localhost:8080/"
        },
        "id": "WS4X2xA7A-4V",
        "outputId": "a04be778-1e60-4591-d717-877b589b8b02"
      },
      "outputs": [
        {
          "name": "stdout",
          "output_type": "stream",
          "text": [
            "El volumen de la esfera con radio 15.0 es: 14137.166941154068\n"
          ]
        }
      ],
      "source": [
        "\n",
        "# Función para calcular el volumen de una esfera\n",
        "def calcular_volumen_esfera(radio):\n",
        "    volumen = (4/3) * math.pi * radio**3\n",
        "    return volumen\n",
        "\n",
        "# Pedir al usuario que ingrese el radio de la esfera\n",
        "radio = float(input(\"Ingresa el radio de la esfera: \"))\n",
        "\n",
        "# Calcular y mostrar el volumen\n",
        "volumen = calcular_volumen_esfera(radio)\n",
        "print(f\"El volumen de la esfera con radio {radio} es: {volumen}\")\n"
      ]
    }
  ],
  "metadata": {
    "colab": {
      "provenance": []
    },
    "kernelspec": {
      "display_name": "Python 3 (ipykernel)",
      "language": "python",
      "name": "python3"
    },
    "language_info": {
      "codemirror_mode": {
        "name": "ipython",
        "version": 3
      },
      "file_extension": ".py",
      "mimetype": "text/x-python",
      "name": "python",
      "nbconvert_exporter": "python",
      "pygments_lexer": "ipython3",
      "version": "3.10.13"
    }
  },
  "nbformat": 4,
  "nbformat_minor": 0
}
