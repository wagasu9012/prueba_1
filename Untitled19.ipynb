{
  "nbformat": 4,
  "nbformat_minor": 0,
  "metadata": {
    "colab": {
      "provenance": []
    },
    "kernelspec": {
      "name": "python3",
      "display_name": "Python 3"
    },
    "language_info": {
      "name": "python"
    }
  },
  "cells": [
    {
      "cell_type": "code",
      "source": [
        "import math\n",
        "\n",
        "# Función para calcular el área de un círculo\n",
        "def calcular_area_circulo(radio):\n",
        "    area = math.pi * radio**2\n",
        "    return area\n",
        "\n",
        "# Pedir al usuario que ingrese el radio\n",
        "radio = float(input(\"Ingresa el radio del círculo: \"))\n",
        "\n",
        "# Calcular y mostrar el área\n",
        "area = calcular_area_circulo(radio)\n",
        "print(f\"El área del círculo con radio {radio} es: {area}\")\n"
      ],
      "metadata": {
        "colab": {
          "base_uri": "https://localhost:8080/"
        },
        "id": "G2i1sqzWAsvk",
        "outputId": "aaf50fcd-daad-421b-9028-ab36c941a810"
      },
      "execution_count": 3,
      "outputs": [
        {
          "output_type": "stream",
          "name": "stdout",
          "text": [
            "Ingresa el radio del círculo: 25\n",
            "El área del círculo con radio 25.0 es: 1963.4954084936207\n"
          ]
        }
      ]
    },
    {
      "cell_type": "code",
      "source": [
        "\n",
        "# Función para calcular el volumen de una esfera\n",
        "def calcular_volumen_esfera(radio):\n",
        "    volumen = (4/3) * math.pi * radio**3\n",
        "    return volumen\n",
        "\n",
        "# Pedir al usuario que ingrese el radio de la esfera\n",
        "radio = float(input(\"Ingresa el radio de la esfera: \"))\n",
        "\n",
        "# Calcular y mostrar el volumen\n",
        "volumen = calcular_volumen_esfera(radio)\n",
        "print(f\"El volumen de la esfera con radio {radio} es: {volumen}\")\n"
      ],
      "metadata": {
        "colab": {
          "base_uri": "https://localhost:8080/"
        },
        "id": "WS4X2xA7A-4V",
        "outputId": "a04be778-1e60-4591-d717-877b589b8b02"
      },
      "execution_count": 4,
      "outputs": [
        {
          "output_type": "stream",
          "name": "stdout",
          "text": [
            "Ingresa el radio de la esfera: 26\n",
            "El volumen de la esfera con radio 26.0 es: 73622.1766393256\n"
          ]
        }
      ]
    }
  ]
}